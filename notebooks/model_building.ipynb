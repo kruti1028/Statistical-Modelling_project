{
 "cells": [
  {
   "attachments": {},
   "cell_type": "markdown",
   "metadata": {},
   "source": [
    "Build a regression model."
   ]
  },
  {
   "cell_type": "code",
   "execution_count": 1,
   "metadata": {},
   "outputs": [],
   "source": [
    "import pandas as pd\n",
    "import numpy as np\n",
    "import matplotlib.pyplot as plt\n",
    "import seaborn as sns\n",
    "import plotly.express as plt\n",
    "import statsmodels.api as sm"
   ]
  },
  {
   "cell_type": "code",
   "execution_count": 7,
   "metadata": {},
   "outputs": [],
   "source": [
    "#importing marged file\n",
    "sum_df = pd.read_csv('df_new.csv')"
   ]
  },
  {
   "cell_type": "code",
   "execution_count": 8,
   "metadata": {},
   "outputs": [
    {
     "data": {
      "text/html": [
       "<div>\n",
       "<style scoped>\n",
       "    .dataframe tbody tr th:only-of-type {\n",
       "        vertical-align: middle;\n",
       "    }\n",
       "\n",
       "    .dataframe tbody tr th {\n",
       "        vertical-align: top;\n",
       "    }\n",
       "\n",
       "    .dataframe thead th {\n",
       "        text-align: right;\n",
       "    }\n",
       "</style>\n",
       "<table border=\"1\" class=\"dataframe\">\n",
       "  <thead>\n",
       "    <tr style=\"text-align: right;\">\n",
       "      <th></th>\n",
       "      <th>name</th>\n",
       "      <th>latitude_x</th>\n",
       "      <th>longitude_x</th>\n",
       "      <th>latitude_y</th>\n",
       "      <th>longitude_y</th>\n",
       "      <th>slots</th>\n",
       "      <th>empty_slots</th>\n",
       "      <th>free_bikes</th>\n",
       "      <th>yelp_rating</th>\n",
       "      <th>yelp_review</th>\n",
       "    </tr>\n",
       "  </thead>\n",
       "  <tbody>\n",
       "    <tr>\n",
       "      <th>0</th>\n",
       "      <td>Richmond Station</td>\n",
       "      <td>43.665269</td>\n",
       "      <td>-79.319796</td>\n",
       "      <td>43.651373</td>\n",
       "      <td>-79.379285</td>\n",
       "      <td>19</td>\n",
       "      <td>16</td>\n",
       "      <td>3</td>\n",
       "      <td>4.5</td>\n",
       "      <td>892</td>\n",
       "    </tr>\n",
       "    <tr>\n",
       "      <th>1</th>\n",
       "      <td>Sap</td>\n",
       "      <td>43.671420</td>\n",
       "      <td>-79.445947</td>\n",
       "      <td>43.651946</td>\n",
       "      <td>-79.381114</td>\n",
       "      <td>15</td>\n",
       "      <td>8</td>\n",
       "      <td>7</td>\n",
       "      <td>3.5</td>\n",
       "      <td>549</td>\n",
       "    </tr>\n",
       "    <tr>\n",
       "      <th>2</th>\n",
       "      <td>Pai Northern Thai Kitchen</td>\n",
       "      <td>43.666224</td>\n",
       "      <td>-79.317693</td>\n",
       "      <td>43.647840</td>\n",
       "      <td>-79.388720</td>\n",
       "      <td>23</td>\n",
       "      <td>21</td>\n",
       "      <td>2</td>\n",
       "      <td>4.5</td>\n",
       "      <td>3419</td>\n",
       "    </tr>\n",
       "    <tr>\n",
       "      <th>3</th>\n",
       "      <td>The Keg Steakhouse + Bar - York Street</td>\n",
       "      <td>43.653236</td>\n",
       "      <td>-79.376716</td>\n",
       "      <td>43.650011</td>\n",
       "      <td>-79.383959</td>\n",
       "      <td>25</td>\n",
       "      <td>25</td>\n",
       "      <td>0</td>\n",
       "      <td>4.0</td>\n",
       "      <td>305</td>\n",
       "    </tr>\n",
       "    <tr>\n",
       "      <th>4</th>\n",
       "      <td>Eggspectation</td>\n",
       "      <td>43.663722</td>\n",
       "      <td>-79.380288</td>\n",
       "      <td>43.653272</td>\n",
       "      <td>-79.381246</td>\n",
       "      <td>15</td>\n",
       "      <td>8</td>\n",
       "      <td>7</td>\n",
       "      <td>4.0</td>\n",
       "      <td>768</td>\n",
       "    </tr>\n",
       "  </tbody>\n",
       "</table>\n",
       "</div>"
      ],
      "text/plain": [
       "                                     name  latitude_x  longitude_x  \\\n",
       "0                        Richmond Station   43.665269   -79.319796   \n",
       "1                                     Sap   43.671420   -79.445947   \n",
       "2               Pai Northern Thai Kitchen   43.666224   -79.317693   \n",
       "3  The Keg Steakhouse + Bar - York Street   43.653236   -79.376716   \n",
       "4                           Eggspectation   43.663722   -79.380288   \n",
       "\n",
       "   latitude_y  longitude_y  slots  empty_slots  free_bikes  yelp_rating  \\\n",
       "0   43.651373   -79.379285     19           16           3          4.5   \n",
       "1   43.651946   -79.381114     15            8           7          3.5   \n",
       "2   43.647840   -79.388720     23           21           2          4.5   \n",
       "3   43.650011   -79.383959     25           25           0          4.0   \n",
       "4   43.653272   -79.381246     15            8           7          4.0   \n",
       "\n",
       "   yelp_review  \n",
       "0          892  \n",
       "1          549  \n",
       "2         3419  \n",
       "3          305  \n",
       "4          768  "
      ]
     },
     "execution_count": 8,
     "metadata": {},
     "output_type": "execute_result"
    }
   ],
   "source": [
    "sum_df.head()"
   ]
  },
  {
   "cell_type": "code",
   "execution_count": 9,
   "metadata": {},
   "outputs": [
    {
     "name": "stdout",
     "output_type": "stream",
     "text": [
      "                            OLS Regression Results                            \n",
      "==============================================================================\n",
      "Dep. Variable:            empty_slots   R-squared:                       1.000\n",
      "Model:                            OLS   Adj. R-squared:                  1.000\n",
      "Method:                 Least Squares   F-statistic:                 1.401e+28\n",
      "Date:                Sun, 02 Jul 2023   Prob (F-statistic):           7.14e-29\n",
      "Time:                        21:16:20   Log-Likelihood:                 145.32\n",
      "No. Observations:                   5   AIC:                            -284.6\n",
      "Df Residuals:                       2   BIC:                            -285.8\n",
      "Df Model:                           2                                         \n",
      "Covariance Type:            nonrobust                                         \n",
      "==============================================================================\n",
      "                 coef    std err          t      P>|t|      [0.025      0.975]\n",
      "------------------------------------------------------------------------------\n",
      "const       3.553e-14   1.21e-12      0.029      0.979   -5.17e-12    5.24e-12\n",
      "slots          1.0000   4.86e-14   2.06e+13      0.000       1.000       1.000\n",
      "free_bikes    -1.0000   7.12e-14  -1.41e+13      0.000      -1.000      -1.000\n",
      "==============================================================================\n",
      "Omnibus:                          nan   Durbin-Watson:                   0.011\n",
      "Prob(Omnibus):                    nan   Jarque-Bera (JB):                0.502\n",
      "Skew:                          -0.363   Prob(JB):                        0.778\n",
      "Kurtosis:                       1.628   Cond. No.                         597.\n",
      "==============================================================================\n",
      "\n",
      "Notes:\n",
      "[1] Standard Errors assume that the covariance matrix of the errors is correctly specified.\n"
     ]
    },
    {
     "name": "stderr",
     "output_type": "stream",
     "text": [
      "/Users/sanketdhameliya/assessment-exam-student-python/.conda/lib/python3.10/site-packages/statsmodels/stats/stattools.py:74: ValueWarning: omni_normtest is not valid with less than 8 observations; 5 samples were given.\n",
      "  warn(\"omni_normtest is not valid with less than 8 observations; %i \"\n"
     ]
    }
   ],
   "source": [
    "## First we set our dependent and independant variables\n",
    "# Load the dataset\n",
    "data = sum_df\n",
    "\n",
    "# Prepare the feature matrix X and target variable y\n",
    "X = data[['slots', 'free_bikes']]\n",
    "y = data['empty_slots']\n",
    "\n",
    "# Add a constant term to the feature matrix\n",
    "X = sm.add_constant(X)\n",
    "\n",
    "# Fit the regression model\n",
    "model = sm.OLS(y, X)\n",
    "results = model.fit()\n",
    "\n",
    "# Print the model summary\n",
    "print(results.summary())"
   ]
  },
  {
   "attachments": {},
   "cell_type": "markdown",
   "metadata": {},
   "source": [
    "Provide model output and an interpretation of the results. "
   ]
  },
  {
   "attachments": {},
   "cell_type": "markdown",
   "metadata": {},
   "source": [
    "1.R-squared: R-squared is a measure of how well the regression model fits the data. In this case, the R-squared value is 1.000, which indicates a perfect fit. The model explains all the variability in the dependent variable using the independent variables.\n",
    "2.Adj. R-squared: The adjusted R-squared takes into account the number of predictors in the model and adjusts the R-squared value accordingly. In this case, the adjusted R-squared is also 1.000.\n",
    "3.F-statistic: The F-statistic is a measure of overall significance of the regression model. In this case, the F-statistic is extremely large (1.401e+28), indicating that the model is highly significant.\n",
    "4.t-value: The t-value measures the significance of each coefficient estimate. In this case, both the \"slots\" and \"free_bikes\" coefficients have t-values with very large magnitudes, indicating their high significance.\n",
    "5.P>|t|: The p-value associated with each coefficient estimate is used to test the null hypothesis that the coefficient is equal to zero. In this case, the p-values are very small (close to 0), suggesting that both \"slots\" and \"free_bikes\" have a significant impact on the \"empty_slots\" variable.\n",
    "\n",
    "Overall, the regression results suggest that the model has a perfect fit and that both \"slots\" and \"free_bikes\" have a significant impact on the \"empty_slots\" variable.\n"
   ]
  },
  {
   "attachments": {},
   "cell_type": "markdown",
   "metadata": {},
   "source": []
  },
  {
   "attachments": {},
   "cell_type": "markdown",
   "metadata": {},
   "source": [
    "# Stretch"
   ]
  },
  {
   "attachments": {},
   "cell_type": "markdown",
   "metadata": {},
   "source": [
    "How can you turn the regression model into a classification model?"
   ]
  },
  {
   "attachments": {},
   "cell_type": "markdown",
   "metadata": {},
   "source": [
    "egression model, which predicts the number of empty slots based on the number of slots and free bikes, we can explore potential approaches to transform this regression problem into a classification one.\n",
    "\n",
    "1.Threshold-based Classification:\n",
    "\n",
    "Set a threshold value for the number of empty slots.\n",
    "If the predicted number of empty slots is above the threshold, classify it as a \"Low availability\" or \"Occupied\" category.\n",
    "If the predicted number of empty slots is below the threshold, classify it as a \"High availability\" or \"Empty\" category.\n",
    "This approach assigns binary labels based on the threshold, creating a classification problem.\n",
    "\n",
    "\n",
    "2.Multi-class Classification:\n",
    "\n",
    "Define multiple classes/categories based on the range of the predicted number of empty slots.\n",
    "For example, if the predicted number of empty slots falls within a certain range, classify it as \"High availability\" or \"Empty\".\n",
    "If it falls within another range, classify it as \"Medium availability\" or \"Moderate occupancy\".\n",
    "If it falls within yet another range, classify it as \"Low availability\" or \"High occupancy\".\n",
    "This approach assigns multiple classes based on the predicted values, creating a multi-class classification problem.\n",
    "\n",
    "\n",
    "3.Binary Classification with Balanced Dataset:\n",
    "\n",
    "Collect a dataset that includes instances with both high and low availability of empty slots.\n",
    "Balance the dataset by including an equal number of instances with high and low availability.\n",
    "Assign binary labels, such as \"High availability\" and \"Low availability\" based on the actual number of empty slots.\n",
    "Train a binary classification model to predict the availability based on the number of slots and free bikes.\n",
    "This approach aims to classify instances into two balanced categories.\n",
    "\n",
    "\n",
    "These are just a few possible ways to transform the regression problem into a classification one. The specific approach would depend on the context and requirements of the problem, as well as the available data and the desired classification outcome.\n"
   ]
  },
  {
   "attachments": {},
   "cell_type": "markdown",
   "metadata": {},
   "source": []
  }
 ],
 "metadata": {
  "kernelspec": {
   "display_name": "Python 3",
   "language": "python",
   "name": "python3"
  },
  "language_info": {
   "codemirror_mode": {
    "name": "ipython",
    "version": 3
   },
   "file_extension": ".py",
   "mimetype": "text/x-python",
   "name": "python",
   "nbconvert_exporter": "python",
   "pygments_lexer": "ipython3",
   "version": "3.10.11"
  }
 },
 "nbformat": 4,
 "nbformat_minor": 4
}
